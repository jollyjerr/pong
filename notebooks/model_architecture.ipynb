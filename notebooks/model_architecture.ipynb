{
 "cells": [
  {
   "cell_type": "markdown",
   "id": "a09b2709",
   "metadata": {},
   "source": [
    "# Pong - Model Architecture"
   ]
  },
  {
   "cell_type": "markdown",
   "id": "9d121914",
   "metadata": {},
   "source": []
  }
 ],
 "metadata": {
  "language_info": {
   "name": "python"
  }
 },
 "nbformat": 4,
 "nbformat_minor": 5
}
